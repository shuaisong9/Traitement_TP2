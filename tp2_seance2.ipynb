{
 "cells": [
  {
   "cell_type": "markdown",
   "metadata": {},
   "source": [
    "# TP 2 - Séance 2\n",
    "## Filtrage fréquentiel 2D\n",
    "\n",
    "Équipe #0\n",
    "- Nom, Prénom (Matricule)\n",
    "- Nom, Prénom (Matricule)"
   ]
  },
  {
   "cell_type": "code",
   "execution_count": null,
   "metadata": {},
   "outputs": [],
   "source": [
    "# Importe les modules qui seront utilisé dans le laboratoire.\n",
    "from typing import Optional\n",
    "import numpy as np\n",
    "from scipy.ndimage import convolve\n",
    "from IPython.display import clear_output\n",
    "import matplotlib\n",
    "import matplotlib.pyplot as plt\n",
    "from matplotlib.pyplot import imread\n",
    "%matplotlib inline\n",
    "# Étend la taille des figures\n",
    "plt.rcParams[\"figure.figsize\"] = (18, 8)"
   ]
  },
  {
   "cell_type": "markdown",
   "metadata": {},
   "source": [
    "# Exercice III : FFT de signaux théoriques 2D"
   ]
  },
  {
   "cell_type": "markdown",
   "metadata": {},
   "source": [
    "On étudie le signal S1: $S_1(x,y)=\\cos(2\\pi\\,(x f_x + y f_y))$ paramétré par les fréquences $f_x$ et $f_y$.\n",
    "\n",
    "On vous fourni les fonctions ```S1(fx,fy)``` qui calcule le signal avec un échantillonage $F_e=100 px/mm$, et ```plot_fft2(fft_signal)``` qui prend en paramètre une transformée de Fourier et affiche le spectre associé."
   ]
  },
  {
   "cell_type": "code",
   "execution_count": null,
   "metadata": {},
   "outputs": [],
   "source": [
    "def plot_fft2(\n",
    "    fft_signal: np.ndarray,\n",
    "    Fe: Optional[float] = None,\n",
    "    grid: bool = True,\n",
    "    logscale: bool = False,\n",
    "    ax: Optional[matplotlib.axes.Axes] = None,\n",
    ") -> None:\n",
    "    \"\"\"Trace le spectre d'un signal à partir de sa transformée de Fourier.\n",
    "    \n",
    "    Args:\n",
    "        fft_signal (np.ndarray): Transformée de Fourier du signal à afficher (array 2D complexe).\n",
    "        Fe (float, optionnel): Fréquence d'échantillonage du signal. La valeur par défaut est None.\n",
    "        grid (bool, optionnel): Si vrai, affiche une grille sur le spectre. La valeur par défaut est True.\n",
    "        logscale (bool, optionnel): Si vrai, les intensités du spectre sont affichés en échelle logarithmique. La\n",
    "            valeur par défaut est False\n",
    "        ax (matplotlib.axes.Axes, optionnel): Si fourni, le spectre sera tracer dans ce subplot. La valeur par défaut\n",
    "            est None.\n",
    "    \"\"\"\n",
    "    # Si aucun système d'axes est fourni on en créé un.\n",
    "    if ax is None:\n",
    "        fig, ax = plt.subplots()\n",
    "\n",
    "    # On calcule les bornes des abscisses et des ordonnées à partir de Fe.\n",
    "    H, W = fft_signal.shape\n",
    "    if Fe is not None:\n",
    "        ymax = (H - (0 if H % 2 else 1)) / (2 * H) * Fe\n",
    "        xmax = (W - (0 if W % 2 else 1)) / (2 * W) * Fe\n",
    "        extent = (-Fe / 2, xmax, ymax, -Fe / 2)\n",
    "    else:\n",
    "        extent = (-W // 2, W // 2 + (W % 2), H // 2, -H // 2 - (H % 2))\n",
    "\n",
    "    if grid:\n",
    "        # Si grid est vrai, on affiche la grille\n",
    "        ax.grid(color=\"#bbb\", linestyle=\"dotted\")\n",
    "        unit = \" (en $mm^{-1}$)\" if Fe is not None else \"\"\n",
    "        ax.set_xlabel(\"U\" + unit)\n",
    "        ax.set_ylabel(\"V\" + unit)\n",
    "    else:\n",
    "        # Sinon on désactive les axes\n",
    "        ax.axis(\"off\")\n",
    "\n",
    "    # On calcule le spectre: soit le module de la transformée de Fourier.\n",
    "    fft_displayed = np.abs(fft_signal)\n",
    "\n",
    "    if not logscale:\n",
    "        # Si logscale est faux on affiche le spectre avec une colorbar\n",
    "        graph = ax.imshow(fft_displayed, cmap=\"inferno\", extent=extent)\n",
    "        plt.colorbar(graph, ax=ax, fraction=0.0467, pad=0.02)\n",
    "    else:\n",
    "        # Sinon on nivelle les intensités trop élevés (0.1% des intensités les plus fortes)\n",
    "        fft_displayed = np.clip(fft_displayed, 0, np.percentile(fft_displayed, 99.9))\n",
    "        # et on affiche le spectre en intensités logarithmiques\n",
    "        fft_displayed = np.log(1 + fft_displayed)\n",
    "        graph = ax.imshow(fft_displayed, cmap=\"inferno\", extent=extent, vmin=0)\n",
    "\n",
    "\n",
    "def S1(fx: float, fy: float) -> np.ndarray:\n",
    "    \"\"\"Génère le signal S1 sur [-1, 1] x [-1, 1] avec une fréquence d'échantillonnage de 100 px/mm.\n",
    "\n",
    "    Args:\n",
    "        fx (float): Fréquence du signal en x.\n",
    "        fy (float): Fréquence du signal en y.\n",
    "\n",
    "    Returns:\n",
    "        np.ndarray: Le signal S1.\n",
    "    \"\"\"\n",
    "    y = np.arange(-1, 1, 1 / 100)\n",
    "    x = np.arange(-1, 1, 1 / 100)\n",
    "    # On définit une grille de coordonnées x et y.\n",
    "    x, y = np.meshgrid(x, y)\n",
    "\n",
    "    # On calcule le signal pour chaque point de cette grille, c'est-à-dire pour chaque pixel de l'image.\n",
    "    return np.cos(2 * np.pi * (x * fx + y * fy))"
   ]
  },
  {
   "cell_type": "markdown",
   "metadata": {},
   "source": [
    "**1a.** Implémentez la fonction `compute_fft2(signal)` qui prend en argument une image et calcule sa transformée de Fourier (normalisée et avec son origine centrée).  \n",
    "\n",
    "**1b.** En prenant $f_x=20mm^{-1}$ et $f_y=0$. Affichez le signal $S_1(x,y)$ et son spectre à l'aide de `plot_fft2()`. Vérifier la position des pics et leur amplitude (donnée par la colorbar).\n",
    "\n",
    "_(Pour gagner du temps dans la suite de l'exercice, on conseille d'encapsuler le code d'affichage d'un signal et de son spectre dans une méthode.)_"
   ]
  },
  {
   "cell_type": "code",
   "execution_count": null,
   "metadata": {},
   "outputs": [],
   "source": [
    "def compute_fft2(signal):\n",
    "    # La transformée de Fourier d'une image est calculée par np.fft.fft2(img). \n",
    "    # Comme np.fft.fft() la transformée de Fourier est renvoyé entre 0<=f<Fe,\n",
    "    # utilisez np.fft.fftshift pour la centrer (fréquence entre -Fe/2<=f<Fe/2).\n",
    "    # return ..."
   ]
  },
  {
   "cell_type": "markdown",
   "metadata": {},
   "source": [
    "**2.** Affichez $S_1$ et son spectre pour $f_x=0$, $f_y=20mm^{-1}$ puis pour $f_x=20mm^{-1}$, $f_y=20mm^{-1}$.   \n",
    "Quel est l'effet d'une rotation de l'image sur son spectre?"
   ]
  },
  {
   "cell_type": "code",
   "execution_count": null,
   "metadata": {
    "scrolled": false
   },
   "outputs": [],
   "source": []
  },
  {
   "cell_type": "markdown",
   "metadata": {},
   "source": [
    "La prochaine question étudie le signal: $S_2(x,y) = cos(2\\pi f r)$ où $r=\\sqrt{x^2+y^2}$.\n",
    "\n",
    "**3.** En vous inspirant de l'implémentation de ```S1(fx, fy)```, définissez ```S2(f)``` (pour mieux comprendre voir la doc de [np.meshgrid](https://numpy.org/doc/stable/reference/generated/numpy.meshgrid.html)).  \n",
    "\n",
    "Affichez le signal et son spectre pour $f=20mm^{-1}$ et pour $f=40mm^{-1}$. Quel est l'effet d'un rétrécissement de l'image sur son spectre?   \n",
    "\n",
    "Affichez le signal et le spectre pour $f=100mm^{-1}$. Expliquez l'allure du spectre et les aberrations visibles sur le signal."
   ]
  },
  {
   "cell_type": "code",
   "execution_count": null,
   "metadata": {
    "scrolled": false
   },
   "outputs": [],
   "source": []
  },
  {
   "cell_type": "markdown",
   "metadata": {},
   "source": [
    "# Exercice IV : Filtrage spectral\n",
    "\n",
    "Cet exercice étudie une image angiographique du réseau coronaire: c'est-à-dire une radiographie des artères qui alimentent le coeur dans lesquelles est injecté un agent de contraste."
   ]
  },
  {
   "cell_type": "markdown",
   "metadata": {},
   "source": [
    "Tout d'abord, on souhaite définir une fonction de création de gaussienne.    \n",
    "On rappelle la formule de la gaussienne en 2D d'écart-type $\\sigma$ et de centre $(x_0, y_0)$: $G(x,y) = \\exp\\left(\\dfrac{-r^2}{2 \\sigma^2}\\right)$ avec $r=\\sqrt{(x-x_0)^2+(y-y_0)^2}$.\n",
    "\n",
    "**1a.** Implémenter la fonction `gaussian(std, size, x0=0, y0=0)` qui renvoie une matrice de taille `size` contenant les valeurs d'une gaussienne d'écart-type `std` et centrée sur (`x0`, `y0`) avec le point central comme origine: (0,0).\n",
    "\n",
    "**1b.** Calculez une gaussienne centrée, d'écart-type 7 dans une matrice 300x300. Affichez son image et son spectre."
   ]
  },
  {
   "cell_type": "code",
   "execution_count": null,
   "metadata": {
    "scrolled": false
   },
   "outputs": [],
   "source": []
  },
  {
   "cell_type": "markdown",
   "metadata": {},
   "source": [
    "**2.** Chargez l'image `angiographie.png`. Affichez l'image et son spectre.   \n",
    "Identifiez sur le spectre les raies qui sont responsables des rayures diagonales sur l'angiographie (Donnez les coordonnées des points concernés). \n",
    "\n",
    "_Pour améliorer sa lisibilité du spectre, activez l'option `logscale=True`. Cette option sera laissée active dans les prochaines questions pour l'affichage de tous les spectres issus de l'image._"
   ]
  },
  {
   "cell_type": "code",
   "execution_count": null,
   "metadata": {},
   "outputs": [],
   "source": []
  },
  {
   "cell_type": "markdown",
   "metadata": {},
   "source": [
    "**3.** À l'aide de la fonction ``gaussian()``, concevez un masque pour filtrer ces raies directement dans le domaine de Fourier. (On pourra prendre un écart type de 3 pixels pour les gaussiennes.) Appliquez le masque à la transformée de fourier de l'image.   \n",
    "Affichez le masque et le spectre filtré."
   ]
  },
  {
   "cell_type": "code",
   "execution_count": null,
   "metadata": {
    "scrolled": false
   },
   "outputs": [],
   "source": []
  },
  {
   "cell_type": "markdown",
   "metadata": {},
   "source": [
    "**4.** Implémenter la fonction `compute_ifft2(fft_signal)` qui prend en argument la transformée de Fourier d'une image et renvoie l'image reconstituée par transformée de Fourier inverse. Reconstituez et affichez l'angiographie nettoyée de ses rayures diagonales.\n",
    "\n",
    "Pour la suite de l'exercice on travaillera sur l'angiographie nettoyée ou sur son spectre. Sa transformée de Fourier sera notée $T_0$."
   ]
  },
  {
   "cell_type": "code",
   "execution_count": null,
   "metadata": {},
   "outputs": [],
   "source": [
    "def compute_ifft2(fft_signal):\n",
    "    # Avant d'être basculée dans le domaine spatiale, les fréquences de la transformée de Fourier du signal \n",
    "    # doivent être permutées avec np.fft.ifftshift pour être à nouveau comprises entre 0 <= f < Fe.\n",
    "    # La transformée de Fourier inverse d'une image est calculée par np.fft.ifft2(img). \n",
    "    # return ..."
   ]
  },
  {
   "cell_type": "markdown",
   "metadata": {},
   "source": [
    "On souhaite appliquer un filtre passe-bas dont la réponse fréquentielle est une gaussienne centrée sur l'origine d'écart-type 20.\n",
    "\n",
    "**5.** Créez le masque gaussien correspondant, appliquez le à la transformée de Fourier de l'image et reconstituez là. Affichez l'image reconstituée et son spectre. \n",
    "\n",
    "On notera $T_{\\text{LF}}$ la transformée de Fourier après ce filtrage."
   ]
  },
  {
   "cell_type": "code",
   "execution_count": null,
   "metadata": {},
   "outputs": [],
   "source": []
  },
  {
   "cell_type": "markdown",
   "metadata": {},
   "source": [
    "**6.** Calculez l'intensité des fréquences qui ont été retirées du spectre à la question précédente, c'est-à-dire la transformée de Fourier $T_{\\text{HF}}$ telle que $T_0 = T_{\\text{LF}} + T_{\\text{HF}}$.   \n",
    "Affichez l'image reconstituée et son spectre. Quel est le type de ce filtrage?"
   ]
  },
  {
   "cell_type": "code",
   "execution_count": null,
   "metadata": {},
   "outputs": [],
   "source": []
  },
  {
   "cell_type": "markdown",
   "metadata": {},
   "source": [
    "**7.** Créez un masque gaussien centré d'écart-type 2.39 pixels, de taille 10x10 et normalisé pour que sa somme soit 1. Convoluez ce masque avec l'image nettoyée à la question 4.   \n",
    "Affichez l'image filtrée et son spectre."
   ]
  },
  {
   "cell_type": "code",
   "execution_count": null,
   "metadata": {},
   "outputs": [],
   "source": []
  },
  {
   "cell_type": "markdown",
   "metadata": {},
   "source": [
    "On rappelle que la transformée de Fourier d'une gaussienne d'écart-type $\\sigma_0$ est un gaussienne d'écart-type $\\frac{1}{2 \\pi \\sigma_0}$. Notons aussi que l'écart-type du masque de la question 5 en $\\text{px}^{-1}$ est de $\\frac{20}{300}$, c'est-à-dire l'écart-type de la gaussienne divisé par le nombre de pixel de la largeur (ou de la hauteur) du spectre. En effet pour une fréquence d'échantillonage de $F_e=1$ px, les bornes du spectre devraient être $-0.5$ et $0.5$ et non $-150$ et $150$.\n",
    "\n",
    "\n",
    "**8a.** Démontrer l'équivalence entre les filtrages réalisés aux question 5 et 7.\n",
    "\n",
    "**8b.** Avec quel masque faut-il convoluer l'image nettoyée pour réaliser pour opérer un filtrage passe-haut équivalent à celui de la question 6 mais dans le domaine spatial?"
   ]
  },
  {
   "cell_type": "code",
   "execution_count": null,
   "metadata": {},
   "outputs": [],
   "source": []
  }
 ],
 "metadata": {
  "interpreter": {
   "hash": "6eae95e61e45103d47c2449a6225f34e765643dcf0e0be1d0b6696b4edb425de"
  },
  "kernelspec": {
   "display_name": "Python 3",
   "language": "python",
   "name": "python3"
  },
  "language_info": {
   "codemirror_mode": {
    "name": "ipython",
    "version": 3
   },
   "file_extension": ".py",
   "mimetype": "text/x-python",
   "name": "python",
   "nbconvert_exporter": "python",
   "pygments_lexer": "ipython3",
   "version": "3.8.11"
  },
  "varInspector": {
   "cols": {
    "lenName": 16,
    "lenType": 16,
    "lenVar": 40
   },
   "kernels_config": {
    "python": {
     "delete_cmd_postfix": "",
     "delete_cmd_prefix": "del ",
     "library": "var_list.py",
     "varRefreshCmd": "print(var_dic_list())"
    },
    "r": {
     "delete_cmd_postfix": ") ",
     "delete_cmd_prefix": "rm(",
     "library": "var_list.r",
     "varRefreshCmd": "cat(var_dic_list()) "
    }
   },
   "types_to_exclude": [
    "module",
    "function",
    "builtin_function_or_method",
    "instance",
    "_Feature"
   ],
   "window_display": false
  }
 },
 "nbformat": 4,
 "nbformat_minor": 2
}
